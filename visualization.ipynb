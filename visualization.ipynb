{
 "cells": [
  {
   "cell_type": "markdown",
   "metadata": {},
   "source": [
    "# 📊 Laboratorio 8 - Visualización de Datos\n",
    "## <font size=4> *CC3084 - Data Science*, 2024 </font>\n",
    "## <font size=3 color='gray'> Samuel Chamale y Adrian Rodriguez</font>"
   ]
  },
  {
   "cell_type": "markdown",
   "metadata": {},
   "source": [
    "<div class=\"alert alert-block alert-warning\">\n",
    "<b>Nota:</b> Al utilizar visualizaciones dinámicas con Plotly, la previsualización no es posible. Es por eso que decidimos incluir imagenes de los resultados para evitar al calificador la ejecución del notebook.\n",
    "</div>"
   ]
  },
  {
   "cell_type": "code",
   "execution_count": 10,
   "metadata": {},
   "outputs": [],
   "source": [
    "import pandas as pd\n",
    "import matplotlib.pyplot as plt\n",
    "import seaborn as sns\n",
    "import plotly.express as px\n",
    "import plotly.graph_objects as go\n",
    "\n",
    "# Suppress warnings\n",
    "import warnings\n",
    "warnings.filterwarnings('ignore')"
   ]
  },
  {
   "cell_type": "markdown",
   "metadata": {},
   "source": [
    "---"
   ]
  },
  {
   "cell_type": "markdown",
   "metadata": {},
   "source": [
    "## 1. Emisiones Históricas de CO₂ 🌍"
   ]
  },
  {
   "cell_type": "markdown",
   "metadata": {},
   "source": [
    "### a) Exploración de los Datos 📈"
   ]
  },
  {
   "cell_type": "markdown",
   "metadata": {},
   "source": [
    "Comenzamos cargando y explorando el conjunto de datos historical_emissions.csv, que contiene las emisiones históricas de CO₂ a nivel mundial desde 1990 hasta 2018."
   ]
  },
  {
   "cell_type": "code",
   "execution_count": 32,
   "metadata": {},
   "outputs": [
    {
     "data": {
      "text/html": [
       "<div>\n",
       "<style scoped>\n",
       "    .dataframe tbody tr th:only-of-type {\n",
       "        vertical-align: middle;\n",
       "    }\n",
       "\n",
       "    .dataframe tbody tr th {\n",
       "        vertical-align: top;\n",
       "    }\n",
       "\n",
       "    .dataframe thead th {\n",
       "        text-align: right;\n",
       "    }\n",
       "</style>\n",
       "<table border=\"1\" class=\"dataframe\">\n",
       "  <thead>\n",
       "    <tr style=\"text-align: right;\">\n",
       "      <th></th>\n",
       "      <th>Country</th>\n",
       "      <th>Data source</th>\n",
       "      <th>Sector</th>\n",
       "      <th>Gas</th>\n",
       "      <th>Unit</th>\n",
       "      <th>2018</th>\n",
       "      <th>2017</th>\n",
       "      <th>2016</th>\n",
       "      <th>2015</th>\n",
       "      <th>2014</th>\n",
       "      <th>...</th>\n",
       "      <th>1999</th>\n",
       "      <th>1998</th>\n",
       "      <th>1997</th>\n",
       "      <th>1996</th>\n",
       "      <th>1995</th>\n",
       "      <th>1994</th>\n",
       "      <th>1993</th>\n",
       "      <th>1992</th>\n",
       "      <th>1991</th>\n",
       "      <th>1990</th>\n",
       "    </tr>\n",
       "  </thead>\n",
       "  <tbody>\n",
       "    <tr>\n",
       "      <th>0</th>\n",
       "      <td>World</td>\n",
       "      <td>CAIT</td>\n",
       "      <td>Total including LUCF</td>\n",
       "      <td>CO2</td>\n",
       "      <td>MtCO₂e</td>\n",
       "      <td>36441.55</td>\n",
       "      <td>35588.70</td>\n",
       "      <td>35160.60</td>\n",
       "      <td>34521.91</td>\n",
       "      <td>34558.59</td>\n",
       "      <td>...</td>\n",
       "      <td>24957.30</td>\n",
       "      <td>24895.32</td>\n",
       "      <td>25292.92</td>\n",
       "      <td>24214.92</td>\n",
       "      <td>23890.22</td>\n",
       "      <td>23260.29</td>\n",
       "      <td>23124.00</td>\n",
       "      <td>22988.29</td>\n",
       "      <td>23056.40</td>\n",
       "      <td>22849.92</td>\n",
       "    </tr>\n",
       "    <tr>\n",
       "      <th>1</th>\n",
       "      <td>China</td>\n",
       "      <td>CAIT</td>\n",
       "      <td>Total including LUCF</td>\n",
       "      <td>CO2</td>\n",
       "      <td>MtCO₂e</td>\n",
       "      <td>9663.36</td>\n",
       "      <td>9367.67</td>\n",
       "      <td>9164.21</td>\n",
       "      <td>9120.27</td>\n",
       "      <td>9184.77</td>\n",
       "      <td>...</td>\n",
       "      <td>2799.84</td>\n",
       "      <td>2882.75</td>\n",
       "      <td>2779.27</td>\n",
       "      <td>2715.50</td>\n",
       "      <td>2735.48</td>\n",
       "      <td>2414.50</td>\n",
       "      <td>2294.12</td>\n",
       "      <td>2068.77</td>\n",
       "      <td>1952.78</td>\n",
       "      <td>1823.96</td>\n",
       "    </tr>\n",
       "    <tr>\n",
       "      <th>2</th>\n",
       "      <td>United States</td>\n",
       "      <td>CAIT</td>\n",
       "      <td>Total including LUCF</td>\n",
       "      <td>CO2</td>\n",
       "      <td>MtCO₂e</td>\n",
       "      <td>4749.57</td>\n",
       "      <td>4581.90</td>\n",
       "      <td>4656.84</td>\n",
       "      <td>4563.52</td>\n",
       "      <td>4683.35</td>\n",
       "      <td>...</td>\n",
       "      <td>5191.66</td>\n",
       "      <td>5172.06</td>\n",
       "      <td>5129.29</td>\n",
       "      <td>4864.46</td>\n",
       "      <td>4708.31</td>\n",
       "      <td>4654.52</td>\n",
       "      <td>4581.76</td>\n",
       "      <td>4461.62</td>\n",
       "      <td>4389.50</td>\n",
       "      <td>4426.40</td>\n",
       "    </tr>\n",
       "    <tr>\n",
       "      <th>3</th>\n",
       "      <td>European Union (27)</td>\n",
       "      <td>CAIT</td>\n",
       "      <td>Total including LUCF</td>\n",
       "      <td>CO2</td>\n",
       "      <td>MtCO₂e</td>\n",
       "      <td>2636.99</td>\n",
       "      <td>2692.12</td>\n",
       "      <td>2669.54</td>\n",
       "      <td>2321.61</td>\n",
       "      <td>2263.78</td>\n",
       "      <td>...</td>\n",
       "      <td>3079.46</td>\n",
       "      <td>3134.03</td>\n",
       "      <td>3142.23</td>\n",
       "      <td>3210.93</td>\n",
       "      <td>3113.68</td>\n",
       "      <td>3060.09</td>\n",
       "      <td>3072.40</td>\n",
       "      <td>3133.06</td>\n",
       "      <td>3247.48</td>\n",
       "      <td>3286.44</td>\n",
       "    </tr>\n",
       "    <tr>\n",
       "      <th>4</th>\n",
       "      <td>India</td>\n",
       "      <td>CAIT</td>\n",
       "      <td>Total including LUCF</td>\n",
       "      <td>CO2</td>\n",
       "      <td>MtCO₂e</td>\n",
       "      <td>2400.25</td>\n",
       "      <td>2267.16</td>\n",
       "      <td>2149.01</td>\n",
       "      <td>2085.38</td>\n",
       "      <td>2072.03</td>\n",
       "      <td>...</td>\n",
       "      <td>683.00</td>\n",
       "      <td>618.73</td>\n",
       "      <td>600.38</td>\n",
       "      <td>555.60</td>\n",
       "      <td>519.98</td>\n",
       "      <td>466.79</td>\n",
       "      <td>431.31</td>\n",
       "      <td>409.09</td>\n",
       "      <td>386.17</td>\n",
       "      <td>341.32</td>\n",
       "    </tr>\n",
       "  </tbody>\n",
       "</table>\n",
       "<p>5 rows × 34 columns</p>\n",
       "</div>"
      ],
      "text/plain": [
       "               Country Data source                Sector  Gas    Unit  \\\n",
       "0                World        CAIT  Total including LUCF  CO2  MtCO₂e   \n",
       "1                China        CAIT  Total including LUCF  CO2  MtCO₂e   \n",
       "2        United States        CAIT  Total including LUCF  CO2  MtCO₂e   \n",
       "3  European Union (27)        CAIT  Total including LUCF  CO2  MtCO₂e   \n",
       "4                India        CAIT  Total including LUCF  CO2  MtCO₂e   \n",
       "\n",
       "       2018      2017      2016      2015      2014  ...      1999      1998  \\\n",
       "0  36441.55  35588.70  35160.60  34521.91  34558.59  ...  24957.30  24895.32   \n",
       "1   9663.36   9367.67   9164.21   9120.27   9184.77  ...   2799.84   2882.75   \n",
       "2   4749.57   4581.90   4656.84   4563.52   4683.35  ...   5191.66   5172.06   \n",
       "3   2636.99   2692.12   2669.54   2321.61   2263.78  ...   3079.46   3134.03   \n",
       "4   2400.25   2267.16   2149.01   2085.38   2072.03  ...    683.00    618.73   \n",
       "\n",
       "       1997      1996      1995      1994      1993      1992      1991  \\\n",
       "0  25292.92  24214.92  23890.22  23260.29  23124.00  22988.29  23056.40   \n",
       "1   2779.27   2715.50   2735.48   2414.50   2294.12   2068.77   1952.78   \n",
       "2   5129.29   4864.46   4708.31   4654.52   4581.76   4461.62   4389.50   \n",
       "3   3142.23   3210.93   3113.68   3060.09   3072.40   3133.06   3247.48   \n",
       "4    600.38    555.60    519.98    466.79    431.31    409.09    386.17   \n",
       "\n",
       "       1990  \n",
       "0  22849.92  \n",
       "1   1823.96  \n",
       "2   4426.40  \n",
       "3   3286.44  \n",
       "4    341.32  \n",
       "\n",
       "[5 rows x 34 columns]"
      ]
     },
     "execution_count": 32,
     "metadata": {},
     "output_type": "execute_result"
    }
   ],
   "source": [
    "# Cargar los datos\n",
    "emissions_df = pd.read_csv('data/emissions/historical_emissions.csv')\n",
    "\n",
    "# Mostrar las primeras filas\n",
    "emissions_df.head()"
   ]
  },
  {
   "cell_type": "markdown",
   "metadata": {},
   "source": [
    "### b) Mensaje Clave 📌\n",
    "\n",
    "Queremos mostrar la tendencia de las emisiones mundiales de CO₂ desde 1990 hasta 2018, destacando los eventos globales clave que pueden haber influido en el comportamiento de las emisiones y resaltando el incremento porcentual desde el primer año hasta el último."
   ]
  },
  {
   "cell_type": "markdown",
   "metadata": {},
   "source": [
    "### c) Tipo de Gráfica Elegida 📊\n",
    "\n",
    "Optamos por un gráfico de líneas interactivo que muestre la evolución anual de las emisiones de CO₂. Esto permite una clara visualización de la tendencia a lo largo del tiempo, con la capacidad de explorar hitos importantes y el incremento porcentual acumulado."
   ]
  },
  {
   "cell_type": "markdown",
   "metadata": {},
   "source": [
    "### d) Creación de la Gráfica en Python 🖥️"
   ]
  },
  {
   "cell_type": "code",
   "execution_count": 133,
   "metadata": {},
   "outputs": [
    {
     "data": {
      "application/vnd.plotly.v1+json": {
       "config": {
        "plotlyServerURL": "https://plot.ly"
       },
       "data": [
        {
         "hovertemplate": "Año=%{x}<br>Emisiones de CO₂ (MtCO₂e)=%{y}<extra></extra>",
         "legendgroup": "",
         "line": {
          "color": "#636efa",
          "dash": "solid"
         },
         "marker": {
          "symbol": "circle"
         },
         "mode": "lines+markers",
         "name": "",
         "orientation": "v",
         "showlegend": false,
         "type": "scatter",
         "x": [
          2018,
          2017,
          2016,
          2015,
          2014,
          2013,
          2012,
          2011,
          2010,
          2009,
          2008,
          2007,
          2006,
          2005,
          2004,
          2003,
          2002,
          2001,
          2000,
          1999,
          1998,
          1997,
          1996,
          1995,
          1994,
          1993,
          1992,
          1991,
          1990
         ],
         "xaxis": "x",
         "y": [
          36441.55,
          35588.7,
          35160.6,
          34521.91,
          34558.59,
          34217.18,
          33620.34,
          33226.01,
          33328.38,
          31769.89,
          31856.76,
          31608.28,
          30905.93,
          29663.75,
          28826.48,
          27308.37,
          26486.63,
          25726.42,
          25637.87,
          24957.3,
          24895.32,
          25292.92,
          24214.92,
          23890.22,
          23260.29,
          23124,
          22988.29,
          23056.4,
          22849.92
         ],
         "yaxis": "y"
        }
       ],
       "layout": {
        "annotations": [
         {
          "arrowcolor": "orange",
          "arrowhead": 0,
          "ax": 0,
          "ay": -50,
          "font": {
           "color": "black",
           "size": 12
          },
          "showarrow": true,
          "text": "Protocolo de Kioto en Vigor",
          "x": 1997,
          "y": 25292.92
         },
         {
          "arrowcolor": "orange",
          "arrowhead": 0,
          "ax": 0,
          "ay": -50,
          "font": {
           "color": "black",
           "size": 12
          },
          "showarrow": true,
          "text": "Crisis Financiera Global",
          "x": 2008,
          "y": 31856.76
         },
         {
          "arrowcolor": "orange",
          "arrowhead": 0,
          "ax": 0,
          "ay": -50,
          "font": {
           "color": "black",
           "size": 12
          },
          "showarrow": true,
          "text": "Acuerdo de París",
          "x": 2015,
          "y": 34521.91
         },
         {
          "arrowhead": 0,
          "ax": -80,
          "ay": 0,
          "bgcolor": "white",
          "bordercolor": "white",
          "borderwidth": 1,
          "font": {
           "color": "green",
           "size": 12
          },
          "showarrow": false,
          "text": "37.30% ↑",
          "x": 2018,
          "y": 28826.48
         }
        ],
        "hovermode": "x unified",
        "legend": {
         "tracegroupgap": 0
        },
        "shapes": [
         {
          "line": {
           "color": "green",
           "dash": "dash",
           "width": 2
          },
          "type": "line",
          "x0": 2018,
          "x1": 2018,
          "y0": 36441.55,
          "y1": 22849.92
         }
        ],
        "showlegend": false,
        "template": {
         "data": {
          "bar": [
           {
            "error_x": {
             "color": "#2a3f5f"
            },
            "error_y": {
             "color": "#2a3f5f"
            },
            "marker": {
             "line": {
              "color": "white",
              "width": 0.5
             },
             "pattern": {
              "fillmode": "overlay",
              "size": 10,
              "solidity": 0.2
             }
            },
            "type": "bar"
           }
          ],
          "barpolar": [
           {
            "marker": {
             "line": {
              "color": "white",
              "width": 0.5
             },
             "pattern": {
              "fillmode": "overlay",
              "size": 10,
              "solidity": 0.2
             }
            },
            "type": "barpolar"
           }
          ],
          "carpet": [
           {
            "aaxis": {
             "endlinecolor": "#2a3f5f",
             "gridcolor": "#C8D4E3",
             "linecolor": "#C8D4E3",
             "minorgridcolor": "#C8D4E3",
             "startlinecolor": "#2a3f5f"
            },
            "baxis": {
             "endlinecolor": "#2a3f5f",
             "gridcolor": "#C8D4E3",
             "linecolor": "#C8D4E3",
             "minorgridcolor": "#C8D4E3",
             "startlinecolor": "#2a3f5f"
            },
            "type": "carpet"
           }
          ],
          "choropleth": [
           {
            "colorbar": {
             "outlinewidth": 0,
             "ticks": ""
            },
            "type": "choropleth"
           }
          ],
          "contour": [
           {
            "colorbar": {
             "outlinewidth": 0,
             "ticks": ""
            },
            "colorscale": [
             [
              0,
              "#0d0887"
             ],
             [
              0.1111111111111111,
              "#46039f"
             ],
             [
              0.2222222222222222,
              "#7201a8"
             ],
             [
              0.3333333333333333,
              "#9c179e"
             ],
             [
              0.4444444444444444,
              "#bd3786"
             ],
             [
              0.5555555555555556,
              "#d8576b"
             ],
             [
              0.6666666666666666,
              "#ed7953"
             ],
             [
              0.7777777777777778,
              "#fb9f3a"
             ],
             [
              0.8888888888888888,
              "#fdca26"
             ],
             [
              1,
              "#f0f921"
             ]
            ],
            "type": "contour"
           }
          ],
          "contourcarpet": [
           {
            "colorbar": {
             "outlinewidth": 0,
             "ticks": ""
            },
            "type": "contourcarpet"
           }
          ],
          "heatmap": [
           {
            "colorbar": {
             "outlinewidth": 0,
             "ticks": ""
            },
            "colorscale": [
             [
              0,
              "#0d0887"
             ],
             [
              0.1111111111111111,
              "#46039f"
             ],
             [
              0.2222222222222222,
              "#7201a8"
             ],
             [
              0.3333333333333333,
              "#9c179e"
             ],
             [
              0.4444444444444444,
              "#bd3786"
             ],
             [
              0.5555555555555556,
              "#d8576b"
             ],
             [
              0.6666666666666666,
              "#ed7953"
             ],
             [
              0.7777777777777778,
              "#fb9f3a"
             ],
             [
              0.8888888888888888,
              "#fdca26"
             ],
             [
              1,
              "#f0f921"
             ]
            ],
            "type": "heatmap"
           }
          ],
          "heatmapgl": [
           {
            "colorbar": {
             "outlinewidth": 0,
             "ticks": ""
            },
            "colorscale": [
             [
              0,
              "#0d0887"
             ],
             [
              0.1111111111111111,
              "#46039f"
             ],
             [
              0.2222222222222222,
              "#7201a8"
             ],
             [
              0.3333333333333333,
              "#9c179e"
             ],
             [
              0.4444444444444444,
              "#bd3786"
             ],
             [
              0.5555555555555556,
              "#d8576b"
             ],
             [
              0.6666666666666666,
              "#ed7953"
             ],
             [
              0.7777777777777778,
              "#fb9f3a"
             ],
             [
              0.8888888888888888,
              "#fdca26"
             ],
             [
              1,
              "#f0f921"
             ]
            ],
            "type": "heatmapgl"
           }
          ],
          "histogram": [
           {
            "marker": {
             "pattern": {
              "fillmode": "overlay",
              "size": 10,
              "solidity": 0.2
             }
            },
            "type": "histogram"
           }
          ],
          "histogram2d": [
           {
            "colorbar": {
             "outlinewidth": 0,
             "ticks": ""
            },
            "colorscale": [
             [
              0,
              "#0d0887"
             ],
             [
              0.1111111111111111,
              "#46039f"
             ],
             [
              0.2222222222222222,
              "#7201a8"
             ],
             [
              0.3333333333333333,
              "#9c179e"
             ],
             [
              0.4444444444444444,
              "#bd3786"
             ],
             [
              0.5555555555555556,
              "#d8576b"
             ],
             [
              0.6666666666666666,
              "#ed7953"
             ],
             [
              0.7777777777777778,
              "#fb9f3a"
             ],
             [
              0.8888888888888888,
              "#fdca26"
             ],
             [
              1,
              "#f0f921"
             ]
            ],
            "type": "histogram2d"
           }
          ],
          "histogram2dcontour": [
           {
            "colorbar": {
             "outlinewidth": 0,
             "ticks": ""
            },
            "colorscale": [
             [
              0,
              "#0d0887"
             ],
             [
              0.1111111111111111,
              "#46039f"
             ],
             [
              0.2222222222222222,
              "#7201a8"
             ],
             [
              0.3333333333333333,
              "#9c179e"
             ],
             [
              0.4444444444444444,
              "#bd3786"
             ],
             [
              0.5555555555555556,
              "#d8576b"
             ],
             [
              0.6666666666666666,
              "#ed7953"
             ],
             [
              0.7777777777777778,
              "#fb9f3a"
             ],
             [
              0.8888888888888888,
              "#fdca26"
             ],
             [
              1,
              "#f0f921"
             ]
            ],
            "type": "histogram2dcontour"
           }
          ],
          "mesh3d": [
           {
            "colorbar": {
             "outlinewidth": 0,
             "ticks": ""
            },
            "type": "mesh3d"
           }
          ],
          "parcoords": [
           {
            "line": {
             "colorbar": {
              "outlinewidth": 0,
              "ticks": ""
             }
            },
            "type": "parcoords"
           }
          ],
          "pie": [
           {
            "automargin": true,
            "type": "pie"
           }
          ],
          "scatter": [
           {
            "fillpattern": {
             "fillmode": "overlay",
             "size": 10,
             "solidity": 0.2
            },
            "type": "scatter"
           }
          ],
          "scatter3d": [
           {
            "line": {
             "colorbar": {
              "outlinewidth": 0,
              "ticks": ""
             }
            },
            "marker": {
             "colorbar": {
              "outlinewidth": 0,
              "ticks": ""
             }
            },
            "type": "scatter3d"
           }
          ],
          "scattercarpet": [
           {
            "marker": {
             "colorbar": {
              "outlinewidth": 0,
              "ticks": ""
             }
            },
            "type": "scattercarpet"
           }
          ],
          "scattergeo": [
           {
            "marker": {
             "colorbar": {
              "outlinewidth": 0,
              "ticks": ""
             }
            },
            "type": "scattergeo"
           }
          ],
          "scattergl": [
           {
            "marker": {
             "colorbar": {
              "outlinewidth": 0,
              "ticks": ""
             }
            },
            "type": "scattergl"
           }
          ],
          "scattermapbox": [
           {
            "marker": {
             "colorbar": {
              "outlinewidth": 0,
              "ticks": ""
             }
            },
            "type": "scattermapbox"
           }
          ],
          "scatterpolar": [
           {
            "marker": {
             "colorbar": {
              "outlinewidth": 0,
              "ticks": ""
             }
            },
            "type": "scatterpolar"
           }
          ],
          "scatterpolargl": [
           {
            "marker": {
             "colorbar": {
              "outlinewidth": 0,
              "ticks": ""
             }
            },
            "type": "scatterpolargl"
           }
          ],
          "scatterternary": [
           {
            "marker": {
             "colorbar": {
              "outlinewidth": 0,
              "ticks": ""
             }
            },
            "type": "scatterternary"
           }
          ],
          "surface": [
           {
            "colorbar": {
             "outlinewidth": 0,
             "ticks": ""
            },
            "colorscale": [
             [
              0,
              "#0d0887"
             ],
             [
              0.1111111111111111,
              "#46039f"
             ],
             [
              0.2222222222222222,
              "#7201a8"
             ],
             [
              0.3333333333333333,
              "#9c179e"
             ],
             [
              0.4444444444444444,
              "#bd3786"
             ],
             [
              0.5555555555555556,
              "#d8576b"
             ],
             [
              0.6666666666666666,
              "#ed7953"
             ],
             [
              0.7777777777777778,
              "#fb9f3a"
             ],
             [
              0.8888888888888888,
              "#fdca26"
             ],
             [
              1,
              "#f0f921"
             ]
            ],
            "type": "surface"
           }
          ],
          "table": [
           {
            "cells": {
             "fill": {
              "color": "#EBF0F8"
             },
             "line": {
              "color": "white"
             }
            },
            "header": {
             "fill": {
              "color": "#C8D4E3"
             },
             "line": {
              "color": "white"
             }
            },
            "type": "table"
           }
          ]
         },
         "layout": {
          "annotationdefaults": {
           "arrowcolor": "#2a3f5f",
           "arrowhead": 0,
           "arrowwidth": 1
          },
          "autotypenumbers": "strict",
          "coloraxis": {
           "colorbar": {
            "outlinewidth": 0,
            "ticks": ""
           }
          },
          "colorscale": {
           "diverging": [
            [
             0,
             "#8e0152"
            ],
            [
             0.1,
             "#c51b7d"
            ],
            [
             0.2,
             "#de77ae"
            ],
            [
             0.3,
             "#f1b6da"
            ],
            [
             0.4,
             "#fde0ef"
            ],
            [
             0.5,
             "#f7f7f7"
            ],
            [
             0.6,
             "#e6f5d0"
            ],
            [
             0.7,
             "#b8e186"
            ],
            [
             0.8,
             "#7fbc41"
            ],
            [
             0.9,
             "#4d9221"
            ],
            [
             1,
             "#276419"
            ]
           ],
           "sequential": [
            [
             0,
             "#0d0887"
            ],
            [
             0.1111111111111111,
             "#46039f"
            ],
            [
             0.2222222222222222,
             "#7201a8"
            ],
            [
             0.3333333333333333,
             "#9c179e"
            ],
            [
             0.4444444444444444,
             "#bd3786"
            ],
            [
             0.5555555555555556,
             "#d8576b"
            ],
            [
             0.6666666666666666,
             "#ed7953"
            ],
            [
             0.7777777777777778,
             "#fb9f3a"
            ],
            [
             0.8888888888888888,
             "#fdca26"
            ],
            [
             1,
             "#f0f921"
            ]
           ],
           "sequentialminus": [
            [
             0,
             "#0d0887"
            ],
            [
             0.1111111111111111,
             "#46039f"
            ],
            [
             0.2222222222222222,
             "#7201a8"
            ],
            [
             0.3333333333333333,
             "#9c179e"
            ],
            [
             0.4444444444444444,
             "#bd3786"
            ],
            [
             0.5555555555555556,
             "#d8576b"
            ],
            [
             0.6666666666666666,
             "#ed7953"
            ],
            [
             0.7777777777777778,
             "#fb9f3a"
            ],
            [
             0.8888888888888888,
             "#fdca26"
            ],
            [
             1,
             "#f0f921"
            ]
           ]
          },
          "colorway": [
           "#636efa",
           "#EF553B",
           "#00cc96",
           "#ab63fa",
           "#FFA15A",
           "#19d3f3",
           "#FF6692",
           "#B6E880",
           "#FF97FF",
           "#FECB52"
          ],
          "font": {
           "color": "#2a3f5f"
          },
          "geo": {
           "bgcolor": "white",
           "lakecolor": "white",
           "landcolor": "white",
           "showlakes": true,
           "showland": true,
           "subunitcolor": "#C8D4E3"
          },
          "hoverlabel": {
           "align": "left"
          },
          "hovermode": "closest",
          "mapbox": {
           "style": "light"
          },
          "paper_bgcolor": "white",
          "plot_bgcolor": "white",
          "polar": {
           "angularaxis": {
            "gridcolor": "#EBF0F8",
            "linecolor": "#EBF0F8",
            "ticks": ""
           },
           "bgcolor": "white",
           "radialaxis": {
            "gridcolor": "#EBF0F8",
            "linecolor": "#EBF0F8",
            "ticks": ""
           }
          },
          "scene": {
           "xaxis": {
            "backgroundcolor": "white",
            "gridcolor": "#DFE8F3",
            "gridwidth": 2,
            "linecolor": "#EBF0F8",
            "showbackground": true,
            "ticks": "",
            "zerolinecolor": "#EBF0F8"
           },
           "yaxis": {
            "backgroundcolor": "white",
            "gridcolor": "#DFE8F3",
            "gridwidth": 2,
            "linecolor": "#EBF0F8",
            "showbackground": true,
            "ticks": "",
            "zerolinecolor": "#EBF0F8"
           },
           "zaxis": {
            "backgroundcolor": "white",
            "gridcolor": "#DFE8F3",
            "gridwidth": 2,
            "linecolor": "#EBF0F8",
            "showbackground": true,
            "ticks": "",
            "zerolinecolor": "#EBF0F8"
           }
          },
          "shapedefaults": {
           "line": {
            "color": "#2a3f5f"
           }
          },
          "ternary": {
           "aaxis": {
            "gridcolor": "#DFE8F3",
            "linecolor": "#A2B1C6",
            "ticks": ""
           },
           "baxis": {
            "gridcolor": "#DFE8F3",
            "linecolor": "#A2B1C6",
            "ticks": ""
           },
           "bgcolor": "white",
           "caxis": {
            "gridcolor": "#DFE8F3",
            "linecolor": "#A2B1C6",
            "ticks": ""
           }
          },
          "title": {
           "x": 0.05
          },
          "xaxis": {
           "automargin": true,
           "gridcolor": "#EBF0F8",
           "linecolor": "#EBF0F8",
           "ticks": "",
           "title": {
            "standoff": 15
           },
           "zerolinecolor": "#EBF0F8",
           "zerolinewidth": 2
          },
          "yaxis": {
           "automargin": true,
           "gridcolor": "#EBF0F8",
           "linecolor": "#EBF0F8",
           "ticks": "",
           "title": {
            "standoff": 15
           },
           "zerolinecolor": "#EBF0F8",
           "zerolinewidth": 2
          }
         }
        },
        "title": {
         "text": "Evolución de las Emisiones Mundiales de CO₂ (1990-2018)"
        },
        "xaxis": {
         "anchor": "y",
         "domain": [
          0,
          1
         ],
         "title": {
          "text": "Año"
         }
        },
        "yaxis": {
         "anchor": "x",
         "domain": [
          0,
          1
         ],
         "title": {
          "text": "Emisiones de CO₂ (MtCO₂e)"
         }
        }
       }
      }
     },
     "metadata": {},
     "output_type": "display_data"
    }
   ],
   "source": [
    "# Preparar los datos\n",
    "years = list(map(int, emissions_df.columns[5:]))  # Columnas de años\n",
    "emissions = emissions_df.iloc[0, 5:].astype(float)  # Emisiones para 'World'\n",
    "\n",
    "# Definir hitos clave\n",
    "hitos = {\n",
    "    1997: 'Protocolo de Kioto en Vigor',\n",
    "    2008: 'Crisis Financiera Global',\n",
    "    2015: 'Acuerdo de París'\n",
    "}\n",
    "\n",
    "# Crear el gráfico de líneas con Plotly Express\n",
    "fig = px.line(x=years, y=emissions,\n",
    "              labels={'x': 'Año', 'y': 'Emisiones de CO₂ (MtCO₂e)'},\n",
    "              title='Evolución de las Emisiones Mundiales de CO₂ (1990-2018)',\n",
    "              markers=True)\n",
    "\n",
    "# Añadir los hitos como anotaciones sin afectar la leyenda\n",
    "for year, label in hitos.items():\n",
    "    emission_value = emissions[years.index(year)]\n",
    "    fig.add_annotation(\n",
    "        x=year,\n",
    "        y=emission_value,\n",
    "        text=label,\n",
    "        showarrow=True,\n",
    "        arrowhead=0,\n",
    "        ax=0,\n",
    "        ay=-50,\n",
    "        font=dict(size=12, color=\"black\"),\n",
    "        arrowcolor=\"orange\"\n",
    "    )\n",
    "\n",
    "# Optimizar la gráfica\n",
    "fig.update_layout(\n",
    "    template='plotly_white',\n",
    "    hovermode='x unified',\n",
    "    showlegend=False  # Ocultar el botón de leyenda a la derecha\n",
    ")\n",
    "\n",
    "# Cálculo del incremento porcentual\n",
    "incremento = abs((emissions.iloc[-1] - emissions.iloc[0]) / emissions.iloc[0]) * 100\n",
    "incremento_texto = f\"{incremento:.2f}% ↑\"\n",
    "\n",
    "last_idx = len(emissions) - 1\n",
    "\n",
    "# Añadir línea vertical en el último año (2018), que vaya desde el mínimo hasta el máximo de las emisiones\n",
    "fig.add_shape(\n",
    "    type=\"line\",\n",
    "    x0=years[0], y0=emissions.iloc[0],  # Desde el valor del primer año\n",
    "    x1=years[0], y1=emissions.iloc[-1],  # Hasta el valor del último año\n",
    "    line=dict(color=\"green\", width=2, dash=\"dash\")\n",
    ")\n",
    "\n",
    "# Añadir anotación con el incremento en el último punto con un fondo blanco\n",
    "fig.add_annotation(\n",
    "    x=years[0],\n",
    "    y=emissions.iloc[14],\n",
    "    text=incremento_texto,  # Texto con el porcentaje y la flecha hacia arriba\n",
    "    showarrow=False,\n",
    "    arrowhead=0,\n",
    "    ax=-80,  # Ajuste de la posición de la flecha hacia la izquierda\n",
    "    ay=0,\n",
    "    font=dict(size=12, color=\"green\"),\n",
    "    bgcolor=\"white\",  # Fondo blanco para evitar traslape visual\n",
    "    bordercolor=\"white\",\n",
    "    borderwidth=1\n",
    ")\n",
    "\n",
    "\n",
    "\n",
    "fig.show()"
   ]
  },
  {
   "attachments": {
    "image.png": {
     "image/png": "[encoded data removed]"
    }
   },
   "cell_type": "markdown",
   "metadata": {},
   "source": [
    "![image.png](attachment:image.png)"
   ]
  },
  {
   "cell_type": "markdown",
   "metadata": {},
   "source": [
    "### e) Optimización de la Gráfica para Reducir la Carga Cognitiva 🧠\n",
    "\n",
    "- **Etiquetas y colores claros**: Se utilizaron etiquetas claras y un color verde para la línea de incremento, evitando distracciones visuales.\n",
    "- **Anotaciones para eventos clave**: Se añadieron hitos como el Protocolo de Kioto, la Crisis Financiera Global y el Acuerdo de París, facilitando la contextualización de los cambios en la serie temporal.\n",
    "- **Interactividad**: La gráfica es interactiva, permitiendo al usuario explorar datos específicos en los puntos de interés y obtener detalles precisos."
   ]
  },
  {
   "cell_type": "markdown",
   "metadata": {},
   "source": [
    "### f) Explicación de Decisiones 💡\n",
    "\n",
    "La elección de un gráfico de líneas fue motivada por la necesidad de mostrar una tendencia a lo largo del tiempo y facilitar la identificación de patrones y cambios en las emisiones de CO₂. Al incorporar eventos clave mediante anotaciones y un cálculo del incremento porcentual acumulado, los usuarios pueden interpretar mejor el contexto y la magnitud del cambio en las emisiones globales. La adición de un fondo blanco en el texto del incremento ayuda a evitar el traslape visual con la línea de incremento, mejorando la legibilidad de la información."
   ]
  }
 ],
 "metadata": {
  "kernelspec": {
   "display_name": "Python 3",
   "language": "python",
   "name": "python3"
  },
  "language_info": {
   "codemirror_mode": {
    "name": "ipython",
    "version": 3
   },
   "file_extension": ".py",
   "mimetype": "text/x-python",
   "name": "python",
   "nbconvert_exporter": "python",
   "pygments_lexer": "ipython3",
   "version": "3.12.4"
  }
 },
 "nbformat": 4,
 "nbformat_minor": 2
}
